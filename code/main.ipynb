{
 "cells": [
  {
   "cell_type": "code",
   "execution_count": 1,
   "metadata": {},
   "outputs": [
    {
     "data": {
      "application/vnd.jupyter.widget-view+json": {
       "model_id": "c3d1a6f885c044cc949de4de12b59ae0",
       "version_major": 2,
       "version_minor": 0
      },
      "text/plain": [
       "interactive(children=(Text(value='/datasets/streets/Zurich_w1_graphPoints.txt', description='Street_file'), Ou…"
      ]
     },
     "metadata": {},
     "output_type": "display_data"
    },
    {
     "data": {
      "application/vnd.jupyter.widget-view+json": {
       "model_id": "8d72f0d29d9443f88b47f8b2f330ff99",
       "version_major": 2,
       "version_minor": 0
      },
      "text/plain": [
       "interactive(children=(Text(value='/datasets/bicyclerisk/Zurich_w1_RoadNodeRisk.csv', description='Risk_file'),…"
      ]
     },
     "metadata": {},
     "output_type": "display_data"
    },
    {
     "data": {
      "application/vnd.jupyter.widget-view+json": {
       "model_id": "fef4d8f2acdb4ddc923d1b44a8f87090",
       "version_major": 2,
       "version_minor": 0
      },
      "text/plain": [
       "interactive(children=(Text(value='yes', description='useComfnc'), Output()), _dom_classes=('widget-interact',)…"
      ]
     },
     "metadata": {},
     "output_type": "display_data"
    },
    {
     "data": {
      "application/vnd.jupyter.widget-view+json": {
       "model_id": "13d4922d64df4b159810df49f64186ed",
       "version_major": 2,
       "version_minor": 0
      },
      "text/plain": [
       "interactive(children=(Text(value='', description='Discomfort_file'), Output()), _dom_classes=('widget-interact…"
      ]
     },
     "metadata": {},
     "output_type": "display_data"
    },
    {
     "data": {
      "application/vnd.jupyter.widget-view+json": {
       "model_id": "ed5de16615ed450aa98c38ce76457a63",
       "version_major": 2,
       "version_minor": 0
      },
      "text/plain": [
       "interactive(children=(Text(value='no', description='Build_graph'), Output()), _dom_classes=('widget-interact',…"
      ]
     },
     "metadata": {},
     "output_type": "display_data"
    },
    {
     "data": {
      "application/vnd.jupyter.widget-view+json": {
       "model_id": "f904d3405082475cbb1054ce3918ef44",
       "version_major": 2,
       "version_minor": 0
      },
      "text/plain": [
       "interactive(children=(Text(value='/code/graph_files/WeightedGraph1.txt', description='Graph_file'), Output()),…"
      ]
     },
     "metadata": {},
     "output_type": "display_data"
    },
    {
     "data": {
      "application/vnd.jupyter.widget-view+json": {
       "model_id": "b87d5e81ea624a2f9b8da6aed8bdab2d",
       "version_major": 2,
       "version_minor": 0
      },
      "text/plain": [
       "interactive(children=(Text(value='/img/map.gif', description='Map_file'), Output()), _dom_classes=('widget-int…"
      ]
     },
     "metadata": {},
     "output_type": "display_data"
    },
    {
     "data": {
      "application/vnd.jupyter.widget-view+json": {
       "model_id": "b2c8fafcdd3d4194b389fc17a87476fa",
       "version_major": 2,
       "version_minor": 0
      },
      "text/plain": [
       "interactive(children=(Text(value='[8.5141, 8.5523, 47.365, 47.3886]', description='Map_coordinates'), Output()…"
      ]
     },
     "metadata": {},
     "output_type": "display_data"
    },
    {
     "data": {
      "application/vnd.jupyter.widget-view+json": {
       "model_id": "1ab971cd289247cea4ace7433ba3ec7b",
       "version_major": 2,
       "version_minor": 0
      },
      "text/plain": [
       "Button(description='Run', style=ButtonStyle())"
      ]
     },
     "metadata": {},
     "output_type": "display_data"
    },
    {
     "data": {
      "application/vnd.jupyter.widget-view+json": {
       "model_id": "4e4de963a0ad4612bbb252101a107860",
       "version_major": 2,
       "version_minor": 0
      },
      "text/plain": [
       "Output()"
      ]
     },
     "metadata": {},
     "output_type": "display_data"
    }
   ],
   "source": [
    "from ipywidgets import widgets\n",
    "from IPython.display import display,clear_output\n",
    "from comfortCalc import calcComf\n",
    "from riskCalc import calcRisk\n",
    "from StreetGraph import Graph,Node,Edge\n",
    "from save import saveGraph\n",
    "from generateconf import generateConf\n",
    "from interactiveMap import GUI\n",
    "from tkinter import *\n",
    "import ast,os,pickle\n",
    "\n",
    "class main(object):\n",
    "    def __init__(self):\n",
    "        self.strfile,self.rskfile,self.usecmf = '','',''\n",
    "        self.cmffile,self.cmffnc,self.buildG = '','',''\n",
    "        self.grphfile,self.mpfile,self.mpcoords = '','',''\n",
    "        self.path = os.path.dirname(os.getcwd()) # Path to output file\n",
    "    \n",
    "    def defStreets(self,Street_file): self.strfile = Street_file\n",
    "    def defRisks(self,Risk_file): self.rskfile = Risk_file\n",
    "    def useComfFunct(self,useComfnc): self.usecmf = useComfnc\n",
    "    def defComfort(self,Discomfort_file): self.cmffile = Discomfort_file\n",
    "    #def defComfortFnc(self,Discomfort_function): self.cmffnc = Discomfort_function\n",
    "    def graphBuild(self,Build_graph): self.buildG = Build_graph\n",
    "    def defGraph(self,Graph_file): self.grphfile = Graph_file\n",
    "    def defMap(self,Map_file): self.mpfile = Map_file\n",
    "    def defMcoord(self,Map_coordinates): self.mpcoords = ast.literal_eval(Map_coordinates)\n",
    "    \n",
    "    def loadGraph(self):\n",
    "        savefile = open(self.path + self.grphfile, 'rb')\n",
    "        self.graph = pickle.load(savefile)\n",
    "    \n",
    "    def buildGraph(self):\n",
    "        ## Build graph ##\n",
    "        graph = Graph()\n",
    "        \n",
    "        f = open(self.path+self.rskfile) # extract risk\n",
    "        f.readline()\n",
    "        riskDict = {}\n",
    "        for line in f:\n",
    "            line = line.split(',')\n",
    "            Id = line[0]\n",
    "            rsk = float(line[4][:-1])\n",
    "            riskDict[Id] = rsk\n",
    "        f.close()\n",
    "        \n",
    "        if self.usecmf == 'no':\n",
    "            print('Not implemented, yet. The comfort function will be used instead')\n",
    "        \n",
    "        f = open(self.path+self.strfile,'r') # add Nodes\n",
    "        f.readline()\n",
    "        for line in f: \n",
    "            line = line.split('\\t')\n",
    "            Id = line[0]\n",
    "            coords = ast.literal_eval(line[1]);\n",
    "            lat = coords[0]; lon = coords[1]; height = coords[2]\n",
    "            try: risk = riskDict[Id] # check whether there is a risk defined for this node\n",
    "            except KeyError: continue\n",
    "            graph.addNode(Node(Id,lat,lon,height,risk))\n",
    "        f.close()\n",
    "        \n",
    "        f = open(self.path+self.strfile,'r') # add Edges\n",
    "        f.readline()\n",
    "        for line in f: \n",
    "            line = line.split('\\t')\n",
    "            Id = line[0]\n",
    "            tgtNodes = ast.literal_eval(line[2][:-1])\n",
    "            try: src = graph.nodes[list(map(str,graph.nodes)).index(Id)]\n",
    "            except ValueError: continue\n",
    "            for el in tgtNodes:\n",
    "                try: dest = graph.nodes[list(map(str,graph.nodes)).index(el)]\n",
    "                except ValueError: continue\n",
    "                edge = Edge(src,dest)\n",
    "                edge.setWeight(calcRisk(edge),calcComf(edge))\n",
    "                graph.addEdge(edge)\n",
    "        f.close()\n",
    "        \n",
    "        saveGraph(graph,self.grphfile)\n",
    "        self.graph = graph\n",
    "        ## Graph finished ##\n",
    "    \n",
    "    def run(self,b):\n",
    "        with out:\n",
    "            clear_output()\n",
    "            \n",
    "            generateConf(self.strfile,self.rskfile,self.usecmf,self.cmffile,self.cmffnc)\n",
    "            \n",
    "            if self.buildG == 'no': self.loadGraph()\n",
    "            else: self.buildGraph()\n",
    "            \n",
    "            self.latList, self.lonList = [],[]\n",
    "            for node in self.graph.nodes:\n",
    "                self.latList.append(node.lat)\n",
    "                self.lonList.append(node.lon)\n",
    "\n",
    "            window = Tk()\n",
    "            gui = GUI(window,self.mpfile,self.mpcoords,self.graph,self.latList,self.lonList)  \n",
    "            # Start the window's event-loop\n",
    "            window.mainloop() \n",
    "\n",
    "\n",
    "init = main()\n",
    "widgets.interact(init.defStreets,Street_file='/datasets/streets/Zurich_w1_graphPoints.txt')\n",
    "widgets.interact(init.defRisks,Risk_file='/datasets/bicyclerisk/Zurich_w1_RoadNodeRisk.csv')\n",
    "widgets.interact(init.useComfFunct,useComfnc='yes')\n",
    "widgets.interact(init.defComfort,Discomfort_file='')\n",
    "#widgets.interact(init.defComfortFnc,Discomfort_function='code/comfortCalc.py')\n",
    "widgets.interact(init.graphBuild,Build_graph='no')\n",
    "widgets.interact(init.defGraph,Graph_file='/code/graph_files/WeightedGraph1.txt')\n",
    "widgets.interact(init.defMap,Map_file='/img/map.gif')\n",
    "widgets.interact(init.defMcoord,Map_coordinates=str([8.5141,8.5523,47.3650,47.3886]))\n",
    "\n",
    "button = widgets.Button(description=\"Run\")\n",
    "display(button)\n",
    "\n",
    "out = widgets.Output()\n",
    "display(out)\n",
    "\n",
    "button.on_click(init.run)"
   ]
  }
 ],
 "metadata": {
  "kernelspec": {
   "display_name": "Python 3",
   "language": "python",
   "name": "python3"
  },
  "language_info": {
   "codemirror_mode": {
    "name": "ipython",
    "version": 3
   },
   "file_extension": ".py",
   "mimetype": "text/x-python",
   "name": "python",
   "nbconvert_exporter": "python",
   "pygments_lexer": "ipython3",
   "version": "3.7.1"
  }
 },
 "nbformat": 4,
 "nbformat_minor": 2
}
